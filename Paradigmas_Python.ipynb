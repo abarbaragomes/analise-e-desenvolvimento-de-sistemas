{
  "nbformat": 4,
  "nbformat_minor": 0,
  "metadata": {
    "colab": {
      "provenance": [],
      "authorship_tag": "ABX9TyMDRVcj1k9pY1ywML20/Ybq",
      "include_colab_link": true
    },
    "kernelspec": {
      "name": "python3",
      "display_name": "Python 3"
    },
    "language_info": {
      "name": "python"
    }
  },
  "cells": [
    {
      "cell_type": "markdown",
      "metadata": {
        "id": "view-in-github",
        "colab_type": "text"
      },
      "source": [
        "<a href=\"https://colab.research.google.com/github/abarbaragomes/analise-e-desenvolvimento-de-sistemas/blob/main/Paradigmas_Python.ipynb\" target=\"_parent\"><img src=\"https://colab.research.google.com/assets/colab-badge.svg\" alt=\"Open In Colab\"/></a>"
      ]
    },
    {
      "cell_type": "markdown",
      "source": [
        "# Python Básico"
      ],
      "metadata": {
        "id": "obNxN6ZiH_wd"
      }
    },
    {
      "cell_type": "markdown",
      "source": [
        "As linhas 2, 3 e 4 compõem o bloco interno à função chamada multiplicador(). Embora as variáveis das linhas 2 e 6 tenham o mesmo nome, elas são abstrações a endereços de memória diferentes. Dentro da função multiplicador(), a chamada ao nome a recupera o valor 2. Fora da função multiplicador(), a chamada ao nome a recupera o valor 3"
      ],
      "metadata": {
        "id": "WeFKL4i-NFeg"
      }
    },
    {
      "cell_type": "code",
      "execution_count": null,
      "metadata": {
        "colab": {
          "base_uri": "https://localhost:8080/"
        },
        "id": "Z_aaNGVBLGDu",
        "outputId": "85c3c2b1-9b63-463f-af5d-c583d534be37"
      },
      "outputs": [
        {
          "output_type": "stream",
          "name": "stdout",
          "text": [
            "Dentro da função, a variável vale: 2\n",
            "Fora da função, a variável a vale: 3\n"
          ]
        }
      ],
      "source": [
        "def multiplicador(numero):\n",
        "        a = 2 # esta variável tem escopo local\n",
        "        print(f\"Dentro da função, a variável vale: {a}\")\n",
        "        return a * numero\n",
        "\n",
        "a = 3 # esta variável tem escopo global\n",
        "b = multiplicador(5)\n",
        "print(f\"Fora da função, a variável a vale: {a}\")"
      ]
    },
    {
      "cell_type": "markdown",
      "source": [
        "Na linha 5, ao se chamar a função do multiplicador(), a variável a será procurada. Como não existe uma variável a no bloco interno da função, ela é procurada como variável global. Uma vez encontrada, o valor recuperado é 3. Ao executar esse código a saída obtida será A variável b vale 15."
      ],
      "metadata": {
        "id": "lRvIju0MNPBZ"
      }
    },
    {
      "cell_type": "code",
      "source": [
        "def multiplicador(numero):\n",
        "        return a * numero\n",
        "\n",
        "a = 3 # esta variável tem escopo global\n",
        "b = multiplicador(5)\n",
        "print(f\"A variável b vale: {b}\")"
      ],
      "metadata": {
        "colab": {
          "base_uri": "https://localhost:8080/"
        },
        "id": "9QPejhcdLkFP",
        "outputId": "a4945099-e32f-46b5-b561-c63cafedac26"
      },
      "execution_count": null,
      "outputs": [
        {
          "output_type": "stream",
          "name": "stdout",
          "text": [
            "A variável b vale: 15\n"
          ]
        }
      ]
    },
    {
      "cell_type": "markdown",
      "source": [
        "Perceba que, se a variável a é inicializada na função multiplicador(), qualquer chamada a esse nome dentro da função resultará na referência a essa variável local. Mas seria possível alterar a variável a global com uma instrução dentro da função multiplicador()? Sim, utilizando-se a palavra reservada global."
      ],
      "metadata": {
        "id": "z2VZHD3WNhLa"
      }
    },
    {
      "cell_type": "code",
      "source": [
        "def multiplicador(numero):\n",
        "        global a # todas as referências à variável a são para a global\n",
        "        a = 2      # a global será alterado\n",
        "        print(f\"Dentro da função,  variável  vale: {a}\")\n",
        "        return a * numero\n",
        "\n",
        "\n",
        "a = 3  # esta variável tem escopo global\n",
        "b = multiplicador(5)\n",
        "print(f\"A variável b vale: {b}\")\n",
        "print(f\"Fora da função, a variável a vale: {a}\")"
      ],
      "metadata": {
        "colab": {
          "base_uri": "https://localhost:8080/"
        },
        "id": "0g8K48kbL-9x",
        "outputId": "c37780af-844c-4f3d-946a-493d4568bfc7"
      },
      "execution_count": null,
      "outputs": [
        {
          "output_type": "stream",
          "name": "stdout",
          "text": [
            "Dentro da função,  variável  vale: 2\n",
            "A variável b vale: 10\n",
            "Fora da função, a variável a vale: 2\n"
          ]
        }
      ]
    },
    {
      "cell_type": "code",
      "source": [
        "a = ['U'] + ['RN']\n",
        "print(len(a))\n",
        "b = ['4'] * 4\n",
        "print(len(b))"
      ],
      "metadata": {
        "colab": {
          "base_uri": "https://localhost:8080/"
        },
        "id": "uKhq43_dhdMs",
        "outputId": "a6b3ffe5-85e5-4f29-f4c8-85d5fb1b90bf"
      },
      "execution_count": null,
      "outputs": [
        {
          "output_type": "stream",
          "name": "stdout",
          "text": [
            "2\n",
            "4\n"
          ]
        }
      ]
    },
    {
      "cell_type": "markdown",
      "source": [
        "Primeiro programa"
      ],
      "metadata": {
        "id": "ZYENV0LeNCxN"
      }
    },
    {
      "cell_type": "code",
      "source": [
        "nome = input('Digite o seu nome: ')\n",
        "idade = eval(input('Digite sua idade: '))\n",
        "idadefutura = idade + 1\n",
        "print('Olá, ', nome, '.')\n",
        "print(nome,' atualmente você tem ', idade, ' anos')\n",
        "print('No próximo ano, você fará ', idadefutura, ' anos.')"
      ],
      "metadata": {
        "id": "PUPzJ51NhrF1",
        "colab": {
          "base_uri": "https://localhost:8080/"
        },
        "outputId": "97e6eb1b-aa59-4b73-8603-5ab7732103b6"
      },
      "execution_count": null,
      "outputs": [
        {
          "output_type": "stream",
          "name": "stdout",
          "text": [
            "Digite o seu nome: Ana\n",
            "Digite sua idade: 13\n",
            "Olá,  Ana .\n",
            "Ana  atualmente você tem  13  anos\n",
            "No próximo ano, você fará  14  anos.\n"
          ]
        }
      ]
    },
    {
      "cell_type": "markdown",
      "source": [
        "Construindo uma calculadora de IMC:  \n",
        "\n",
        "![image.png](data:image/png;base64,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)"
      ],
      "metadata": {
        "id": "PB16LOCiNSX0"
      }
    },
    {
      "cell_type": "code",
      "source": [
        "peso = eval(input('Informe o seu peso: '))\n",
        "## altura precisa estar com pontuação; e, não vírgula. Exemplo: 1.75 ao invés de 1,75\n",
        "altura = eval(input('Informe a sua altura: '))\n",
        "\n",
        "imc = peso / ((altura)**2)\n",
        "\n",
        "print('Seu IMC é: ', imc)"
      ],
      "metadata": {
        "colab": {
          "base_uri": "https://localhost:8080/"
        },
        "id": "OZ6qF1LfNT2a",
        "outputId": "1560a1f3-3cff-465c-a968-287456bbc2cb"
      },
      "execution_count": null,
      "outputs": [
        {
          "output_type": "stream",
          "name": "stdout",
          "text": [
            "Informe o seu peso: 75\n",
            "Informe a sua altura: 1.75\n",
            "Seu IMC é:  24.489795918367346\n"
          ]
        }
      ]
    },
    {
      "cell_type": "markdown",
      "source": [
        "# Python Estruturado"
      ],
      "metadata": {
        "id": "yOFasbpnIGHd"
      }
    },
    {
      "cell_type": "markdown",
      "source": [
        "Implementar uma solução em Python que verifica se um número é: PAR ou ÍMPAR."
      ],
      "metadata": {
        "id": "1mic0iWCIIxm"
      }
    },
    {
      "cell_type": "code",
      "source": [
        "numero = eval(input('Digite um número: '))\n",
        "\n",
        "if numero % 2 == 0:\n",
        "  print(f'O {numero} é par!')\n",
        "else:\n",
        "  print(f'O {numero} é ímpar!')"
      ],
      "metadata": {
        "colab": {
          "base_uri": "https://localhost:8080/"
        },
        "id": "SYmw3pijIRw4",
        "outputId": "45ad8baf-1368-4861-899a-92426704b5ac"
      },
      "execution_count": null,
      "outputs": [
        {
          "output_type": "stream",
          "name": "stdout",
          "text": [
            "Digite um número: 189852963\n",
            "O 189852963 é ímpar!\n"
          ]
        }
      ]
    },
    {
      "cell_type": "markdown",
      "source": [
        "Implementar uma solução em Python que resolva a seguinte questão:\n",
        "\n",
        "\n",
        "*   Se a nota for maior ou igual a 7, o estudante foi APROVADO!\n",
        "*   Se a nota for menor que 7 e maior ou igual a 5, o estudante está em RECUPERAÇÃO!\n",
        "*   Se a nota for menor que 5, o estudante está REPROVADO!\n",
        "\n"
      ],
      "metadata": {
        "id": "A92Hjk7_JWfu"
      }
    },
    {
      "cell_type": "code",
      "source": [
        "aluno = input('Digite o nome do aluno: ')\n",
        "notafinal = eval(input(f'Digite a nota final de {aluno}: '))\n",
        "\n",
        "if notafinal >= 7:\n",
        "  print(f'{aluno} está APROVADO (A)!')\n",
        "elif notafinal >= 5:\n",
        "  print(f'{aluno} está em RECUPERAÇÃO!')\n",
        "else :\n",
        "  print(f'{aluno} está REPROVADO (A)!')"
      ],
      "metadata": {
        "colab": {
          "base_uri": "https://localhost:8080/"
        },
        "id": "iQUKPtqlJ9rc",
        "outputId": "711073c8-dd73-481d-bfa8-b3711b8059c9"
      },
      "execution_count": null,
      "outputs": [
        {
          "output_type": "stream",
          "name": "stdout",
          "text": [
            "Digite o nome do aluno: Ana\n",
            "Digite a nota final de Ana: 6.1\n",
            "Ana está em RECUPERAÇÃO!\n"
          ]
        }
      ]
    },
    {
      "cell_type": "code",
      "source": [
        "aluno = input('Digite o nome do aluno: ')\n",
        "notafinal = eval(input(f'Digite a nota final de {aluno}: '))\n",
        "\n",
        "if notafinal >= 7:\n",
        "  situacao = 'APROVADO (A)!'\n",
        "elif notafinal >= 5:\n",
        "  situacao = 'em RECUPERAÇÃO!'\n",
        "else :\n",
        "  situacao = 'REPROVADO (A)'\n",
        "\n",
        "print(f'{aluno} está {situacao}')"
      ],
      "metadata": {
        "colab": {
          "base_uri": "https://localhost:8080/"
        },
        "id": "7ODnV2SYNe-g",
        "outputId": "cb6278b8-4437-433a-8a54-1e1e9cfb1b58"
      },
      "execution_count": null,
      "outputs": [
        {
          "output_type": "stream",
          "name": "stdout",
          "text": [
            "Digite o nome do aluno: Ana\n",
            "Digite a nota final de Ana: 7\n",
            "Ana está APROVADO (A)!\n"
          ]
        }
      ]
    },
    {
      "cell_type": "markdown",
      "source": [
        "Implementar uma solução em Python que resolva a seguinte questão:\n",
        "\n",
        "1.   Calcular o valor de uma compra sendo que o preço unitário é R$ 10,00.\n",
        "2.   Se for feita uma compra de até 10 unidades, não há descontos.\n",
        "3.   Para compras entre 11 e 20 unidades é dado um desconto de 10%.\n",
        "4.   Acima de 20 unidades é dado um desconto de 20%\n"
      ],
      "metadata": {
        "id": "TxOjW3pgOKuu"
      }
    },
    {
      "cell_type": "code",
      "source": [
        "quantidade = eval(input('Informe a quantidade de produtos comprada: '))\n",
        "preco = 10\n",
        "\n",
        "if quantidade >= 20:\n",
        "  desconto = 0.8\n",
        "  # aplicado o desconto de 20%\n",
        "  total = (preco * quantidade * desconto)\n",
        "elif quantidade >= 11:\n",
        "  desconto = 0.9\n",
        "  #aplicado o desconto de 10%\n",
        "  total = (preco * quantidade * desconto)\n",
        "else:\n",
        "  # Até 10 unidades NÃO há descontos.\n",
        "  total = (preco * quantidade)\n",
        "\n",
        "print(f'O valor total da compra é de R$ {total}')\n"
      ],
      "metadata": {
        "colab": {
          "base_uri": "https://localhost:8080/"
        },
        "id": "-kSnDVwpO30q",
        "outputId": "03ed74f1-4e6c-48a5-82d4-00585d502294"
      },
      "execution_count": null,
      "outputs": [
        {
          "output_type": "stream",
          "name": "stdout",
          "text": [
            "Informe a quantidade de produtos comprada: 30\n",
            "O valor total da compra é de R$ 240.0\n"
          ]
        }
      ]
    },
    {
      "cell_type": "markdown",
      "source": [
        "Implementar uma solução em Python que some todos os números pares de uma lista.\n",
        "\n",
        "Por exemplo, se a lista for [10, 2, 5, 7, 6, 3], o resultado deve ser igual a 18."
      ],
      "metadata": {
        "id": "bEvn-40BTlXX"
      }
    },
    {
      "cell_type": "code",
      "source": [
        "#estrategia 01\n",
        "\n",
        "lista = [10, 2, 5, 7, 6, 3]\n",
        "n = len(lista)\n",
        "soma = 0\n",
        "for i in range(n):\n",
        "  if(lista[i]%2==0):\n",
        "    soma = soma + lista[i]\n",
        "print(f'O somatório dos elementos pares da lista é: {soma}')"
      ],
      "metadata": {
        "colab": {
          "base_uri": "https://localhost:8080/"
        },
        "id": "Z7LEUiUqQF4j",
        "outputId": "ff19d3b7-773d-4f55-fef4-be3a5d447d92"
      },
      "execution_count": null,
      "outputs": [
        {
          "output_type": "stream",
          "name": "stdout",
          "text": [
            "O somatório dos elementos pares da lista é: 18\n"
          ]
        }
      ]
    },
    {
      "cell_type": "code",
      "source": [
        "#estrategia 02\n",
        "\n",
        "lista = [10, 2, 5, 7, 6, 3]\n",
        "\n",
        "soma = 0\n",
        "\n",
        "for num in lista:\n",
        "  if(num%2==0):\n",
        "    soma = soma + num\n",
        "print(f'O somatório dos elementos pares da lista é: {soma}')"
      ],
      "metadata": {
        "colab": {
          "base_uri": "https://localhost:8080/"
        },
        "id": "tQJ2wxCOVB47",
        "outputId": "2ae53460-5470-4a1c-bc7f-f9c45ba4c627"
      },
      "execution_count": null,
      "outputs": [
        {
          "output_type": "stream",
          "name": "stdout",
          "text": [
            "O somatório dos elementos pares da lista é: 18\n"
          ]
        }
      ]
    },
    {
      "cell_type": "markdown",
      "source": [
        "Implementar uma solução em Python que retorne o menor elemento de uma lista."
      ],
      "metadata": {
        "id": "KtliWobxctKt"
      }
    },
    {
      "cell_type": "code",
      "source": [
        "def encontrar_minimo(lista):\n",
        "  minimo = lista [0]\n",
        "  for elem in lista:\n",
        "    if (elem < minimo):\n",
        "      minimo = elem\n",
        "  return minimo\n",
        "\n",
        "lista_teste = [2,10,3,1,4,5]\n",
        "menor = encontrar_minimo(lista_teste)\n",
        "print('O menor elemento da lista é:[{}]'.format(menor))"
      ],
      "metadata": {
        "colab": {
          "base_uri": "https://localhost:8080/"
        },
        "id": "_pMsv1dCc1Ko",
        "outputId": "69091823-4d1e-4601-d47c-70702e34cda1"
      },
      "execution_count": null,
      "outputs": [
        {
          "output_type": "stream",
          "name": "stdout",
          "text": [
            "O menor elemento da lista é:[1]\n"
          ]
        }
      ]
    },
    {
      "cell_type": "markdown",
      "source": [
        "Implementar uma solução em Python que retorne a soma de todos os elementos pares de uma lista."
      ],
      "metadata": {
        "id": "D_LPxi3wesaz"
      }
    },
    {
      "cell_type": "code",
      "source": [
        "def soma_numeros(lista):\n",
        "  soma_pares = 0\n",
        "  for elem in lista:\n",
        "    if (elem % 2 == 0):\n",
        "      soma_pares = soma_pares + elem\n",
        "  return soma_pares\n",
        "\n",
        "lista_teste = [2,18,3,1,10,5]\n",
        "pares = soma_numeros(lista_teste)\n",
        "print('A soma dos elementos pares da lista resulta em: [{}]'.format(pares))\n",
        "\n"
      ],
      "metadata": {
        "colab": {
          "base_uri": "https://localhost:8080/"
        },
        "id": "36Bdu41MeAcB",
        "outputId": "dbb9c76c-964f-48fd-adf9-094b70b5e90b"
      },
      "execution_count": 10,
      "outputs": [
        {
          "output_type": "stream",
          "name": "stdout",
          "text": [
            "A soma dos elementos pares da lista resulta em: [30]\n"
          ]
        }
      ]
    },
    {
      "cell_type": "code",
      "source": [
        "def Par(n):\n",
        "  r = (n%2==0)\n",
        "  return r\n",
        "\n",
        "def somar_par(lst):\n",
        "  soma = 0\n",
        "  for num in lst:\n",
        "    if(Par(num)):\n",
        "      soma=soma+num\n",
        "  return soma\n",
        "\n",
        "lista = [10,2,5,7,6,3]\n",
        "soma=somar_par(lista)\n",
        "print(f'O somatório dos elementos pares da lista é: {soma}')"
      ],
      "metadata": {
        "colab": {
          "base_uri": "https://localhost:8080/"
        },
        "id": "-Jj1KNL7gr_o",
        "outputId": "dab665ef-ac9f-49db-e24d-5ca18e555ec9"
      },
      "execution_count": null,
      "outputs": [
        {
          "output_type": "stream",
          "name": "stdout",
          "text": [
            "O somatório dos elementos pares da lista é: 18\n"
          ]
        }
      ]
    },
    {
      "cell_type": "markdown",
      "source": [
        "Implementar uma solução em Python que calcule o fatorial de um número:"
      ],
      "metadata": {
        "id": "wc9ryj8Uh_8v"
      }
    },
    {
      "cell_type": "code",
      "source": [
        "def fatorial(n):\n",
        "  if ((n==0) or (n==1)):\n",
        "    return 1\n",
        "  return n*fatorial(n-1)\n",
        "\n",
        "numero = eval(input('Informe um número: '))\n",
        "print(f'O fatorial de {numero} é: {fatorial(numero)}')\n"
      ],
      "metadata": {
        "colab": {
          "base_uri": "https://localhost:8080/"
        },
        "id": "v1zYZQs-hXYf",
        "outputId": "197c83b7-323a-40ef-8aef-6c924ad73656"
      },
      "execution_count": 44,
      "outputs": [
        {
          "output_type": "stream",
          "name": "stdout",
          "text": [
            "Informe um número: 4\n",
            "O fatorial de 4 é: 24\n"
          ]
        }
      ]
    },
    {
      "cell_type": "code",
      "source": [
        "def fatorial(n):\n",
        "  f=1\n",
        "  for i in range (1,n+1):\n",
        "    f=f*i\n",
        "  return f\n",
        "\n",
        "numero = eval(input('Informe um número: '))\n",
        "print(f'O fatorial de {numero} é: {fatorial(numero)}')"
      ],
      "metadata": {
        "colab": {
          "base_uri": "https://localhost:8080/"
        },
        "id": "fmNb0VjFAQKU",
        "outputId": "72c44394-ffd8-47cd-ed47-ac08e7e28344"
      },
      "execution_count": 45,
      "outputs": [
        {
          "output_type": "stream",
          "name": "stdout",
          "text": [
            "Informe um número: 3\n",
            "O fatorial de 3 é: 6\n"
          ]
        }
      ]
    },
    {
      "cell_type": "markdown",
      "source": [
        "Implementar uma solução em Python que determine se um número é ou não Primo."
      ],
      "metadata": {
        "id": "8AwbXsRd97I8"
      }
    },
    {
      "cell_type": "code",
      "source": [
        "def primo(n):\n",
        "  if(n<2):\n",
        "    return False\n",
        "  i = n // 2\n",
        "  while (i>1) :\n",
        "    if (n%i==0):\n",
        "      return False\n",
        "    i = i -1\n",
        "  return True\n",
        "\n",
        "def solucao(numero, resultado):\n",
        "  resposta  = f'O número {numero} NÃO é primo'\n",
        "  if (resultado):\n",
        "    resposta = f'O número {numero} É primo'\n",
        "  return resposta\n",
        "\n",
        "numero = eval(input('Informe um número: '))\n",
        "resultado = primo(numero)\n",
        "final = solucao (numero, resultado)\n",
        "print(final)"
      ],
      "metadata": {
        "colab": {
          "base_uri": "https://localhost:8080/"
        },
        "id": "6ttwpvr0-CgN",
        "outputId": "73185227-b363-4ef4-f5f8-b99a17a227ea"
      },
      "execution_count": 55,
      "outputs": [
        {
          "output_type": "stream",
          "name": "stdout",
          "text": [
            "Informe um número: 11\n",
            "O número 11 É primo\n"
          ]
        }
      ]
    },
    {
      "cell_type": "markdown",
      "source": [
        "# Python Orientado a Objetos"
      ],
      "metadata": {
        "id": "vbhiX-pEM5WG"
      }
    },
    {
      "cell_type": "code",
      "source": [
        "class Pessoa:\n",
        "  def __init__(self, nome, ender):\n",
        "    self.set_nome(nome)\n",
        "    self.set_ender(ender)\n",
        "\n",
        "  def set_nome(self,nome):\n",
        "    self.nome=nome\n",
        "\n",
        "  def set_ender(self,ender):\n",
        "    self.ender=ender\n",
        "\n",
        "  def get_nome(self):\n",
        "    return self.nome\n",
        "\n",
        "  def get_ender(self):\n",
        "    return self.ender\n",
        "\n",
        "pessoa1 = Pessoa(\"maria\", \"rua 01234\")\n",
        "pessoa2 = Pessoa(\"joão\", \"rua 56789\")\n",
        "\n",
        "print (f'Nome: {pessoa1.get_nome()}, Endereço: {pessoa1.get_ender()}')\n",
        "print (f'Nome: {pessoa2.get_nome()}, Endereço: {pessoa2.get_ender()}')"
      ],
      "metadata": {
        "colab": {
          "base_uri": "https://localhost:8080/"
        },
        "id": "NHCzfzzyspbU",
        "outputId": "c9b8e64b-8e06-488e-9cce-2faf2af531cc"
      },
      "execution_count": 1,
      "outputs": [
        {
          "output_type": "stream",
          "name": "stdout",
          "text": [
            "Nome: maria, Endereço: rua 01234\n",
            "Nome: joão, Endereço: rua 56789\n"
          ]
        }
      ]
    },
    {
      "cell_type": "code",
      "source": [
        "# Classe Salário\n",
        "\n",
        "class Salario:\n",
        "  def __init__(self, base, bonus):\n",
        "    self.base = base\n",
        "    self.bonus = bonus\n",
        "\n",
        "  def salario_anual(self):\n",
        "    return (self.base*12)+self.bonus\n",
        "\n",
        "# Classe Empregado\n",
        "\n",
        "class Empregado:\n",
        "  def __init__(self, nome, idade, salario):\n",
        "    self.nome = nome\n",
        "    self.idade = idade\n",
        "    self.salario_agregado = salario # Agregação\n",
        "\n",
        "  def salario_total(self):\n",
        "    return self.salario_agregado.salario_anual()\n",
        "\n",
        "salario = Salario (10000, 900)\n",
        "emp = Empregado('Musashi', 46, salario)\n",
        "print(emp.salario_total())"
      ],
      "metadata": {
        "colab": {
          "base_uri": "https://localhost:8080/"
        },
        "id": "R85-4T3ISFSO",
        "outputId": "c265e9cf-1287-42f4-cef7-1312ad86ae0c"
      },
      "execution_count": 5,
      "outputs": [
        {
          "output_type": "stream",
          "name": "stdout",
          "text": [
            "120900\n"
          ]
        }
      ]
    },
    {
      "cell_type": "code",
      "source": [
        "from datetime import date\n",
        "\n",
        "class Pessoa:\n",
        "  def __init__(self, nome, idade):\n",
        "    self.nome = nome\n",
        "    self.idade = idade\n",
        "\n",
        "  # Um método de classe para criar\n",
        "  # Um objeto Pessoa através do ano de nascimento\n",
        "  @classmethod\n",
        "  def apartirAnoNascimento(cls, nome, ano):\n",
        "    return cls(nome, date.today().year - ano)\n",
        "  # Método Estático: verificar se é maior de idade\n",
        "  @staticmethod\n",
        "  def MaiorIdade(idade):\n",
        "    return idade >= 18\n",
        "\n",
        "pessoa1 = Pessoa('maria', 23)\n",
        "pessoa2 = Pessoa.apartirAnoNascimento('ana', 2006)\n",
        "\n",
        "print(pessoa1.idade)\n",
        "print(pessoa2.idade)\n",
        "\n",
        "#imprimir o resultado\n",
        "\n",
        "print(Pessoa.MaiorIdade(17))"
      ],
      "metadata": {
        "colab": {
          "base_uri": "https://localhost:8080/"
        },
        "id": "RTD_3QEAStQl",
        "outputId": "30663964-97d5-493c-be82-a86b605f85f3"
      },
      "execution_count": 19,
      "outputs": [
        {
          "output_type": "stream",
          "name": "stdout",
          "text": [
            "23\n",
            "17\n",
            "False\n"
          ]
        }
      ]
    },
    {
      "cell_type": "code",
      "source": [
        "class Conta:\n",
        "    def __init__(self, numero, cpf, nomeTitular, saldo):\n",
        "        self.numero = numero\n",
        "        self.cpf = cpf\n",
        "        self.nomeTitular = nomeTitular\n",
        "        self.saldo = saldo\n",
        "\n",
        "def main():\n",
        "    c1 = Conta(1,1,\"Joao\",1000) # Objeto sendo instanciado\n",
        "    print (f\"Nome do titular da conta: {c1.nomeTitular}\")\n",
        "    print (f\"Número da conta: {c1.numero}\")\n",
        "    print (f\"CPF do titular da conta: {c1.cpf}\")\n",
        "    print (f\"Saldo da conta: {c1.saldo}\")\n",
        "\n",
        "\n",
        "# Quando um script python é executado, a variável reservada\n",
        "# NAME referente a ele tem valor igual a \"__main__\".\n",
        "# Nesse caso, a condição do IF a seguir será TRUE.\n",
        "# Então o que está no corpo do IF será executado. No caso,\n",
        "# é um chamado ao método main do script\n",
        "\n",
        "if __name__ == \"__main__\":\n",
        "    main()"
      ],
      "metadata": {
        "colab": {
          "base_uri": "https://localhost:8080/"
        },
        "id": "zPexPASkWpmX",
        "outputId": "b4e78451-48e6-4404-d933-6c09e0b18682"
      },
      "execution_count": 1,
      "outputs": [
        {
          "output_type": "stream",
          "name": "stdout",
          "text": [
            "Nome do titular da conta: Joao\n",
            "Número da conta: 1\n",
            "CPF do titular da conta: 1\n",
            "Saldo da conta: 1000\n"
          ]
        }
      ]
    },
    {
      "cell_type": "code",
      "source": [
        "class A():\n",
        "    def f(self):\n",
        "        print(\"foo\")\n",
        "\n",
        "\n",
        "def main():\n",
        "    obj_A = A() # Objeto sendo instanciado\n",
        "    obj_A.f()\n",
        "\n",
        "if __name__ == \"__main__\":\n",
        "    main()"
      ],
      "metadata": {
        "colab": {
          "base_uri": "https://localhost:8080/"
        },
        "id": "bjuEzIIrmDgZ",
        "outputId": "341f09d0-e0bf-495c-ce51-bb32360fcaeb"
      },
      "execution_count": 2,
      "outputs": [
        {
          "output_type": "stream",
          "name": "stdout",
          "text": [
            "foo\n"
          ]
        }
      ]
    },
    {
      "cell_type": "code",
      "source": [
        "class Conta:\n",
        "    def __init__(self, numero, cpf, nomeTitular, saldo):\n",
        "        self.numero = numero\n",
        "        self.cpf = cpf\n",
        "        self.nomeTitular = nomeTitular\n",
        "        self.saldo = saldo\n",
        "\n",
        "    def depositar(self, valor):\n",
        "        self.saldo += valor\n",
        "\n",
        "    def sacar(self, valor):\n",
        "        self.saldo -= valor\n",
        "\n",
        "    def gerar_extrato(self):\n",
        "        print(f\"numero: {self.numero} \\n cpf: {self.cpf}\\nsaldo: {self.saldo}\")\n",
        "\n",
        "def main():\n",
        "    c1 = Conta(1,1,\"Joao\",0)\n",
        "    c1.depositar(300)\n",
        "    c1.sacar(100)\n",
        "    c1.gerar_extrato()\n",
        "\n",
        "if __name__ == \"__main__\":\n",
        "    main()"
      ],
      "metadata": {
        "colab": {
          "base_uri": "https://localhost:8080/"
        },
        "id": "UZfX8YrxnNdj",
        "outputId": "12116240-36c2-4eae-8e09-7476d29cc4d0"
      },
      "execution_count": 4,
      "outputs": [
        {
          "output_type": "stream",
          "name": "stdout",
          "text": [
            "numero: 1 \n",
            " cpf: 1\n",
            "saldo: 200\n"
          ]
        }
      ]
    },
    {
      "cell_type": "code",
      "source": [
        "class Conta():\n",
        "    def __init__(self, numero, cpf, nomeTitular, saldo):\n",
        "        self.numero = numero\n",
        "        self.cpf = cpf\n",
        "        self.nomeTitular = nomeTitular\n",
        "        self.saldo = saldo\n",
        "\n",
        "    def depositar(self, valor):\n",
        "        self.saldo += valor\n",
        "\n",
        "    def sacar(self,valor):\n",
        "        if self.saldo < valor:\n",
        "            return False\n",
        "        else:\n",
        "            self.saldo -= valor\n",
        "            return True\n",
        "\n",
        "    def gerar_extrato(self):\n",
        "        print(f\"numero: {self.numero}\\n cpf: {self.cpf}\\nsaldo: {self.saldo}\")\n",
        "\n",
        "def main():\n",
        "    c1 = Conta(1,1,\"Joao\",0)\n",
        "    c1.depositar(300)\n",
        "    saque = c1.sacar(400)\n",
        "    c1.gerar_extrato()\n",
        "    print(f\"O saque foi realizado? {saque}\")\n",
        "\n",
        "\n",
        "if __name__ == \"__main__\":\n",
        "    main()"
      ],
      "metadata": {
        "colab": {
          "base_uri": "https://localhost:8080/"
        },
        "id": "xYN91a-Dn4xK",
        "outputId": "492d008f-ada1-46a3-fab4-42c011fc427f"
      },
      "execution_count": 5,
      "outputs": [
        {
          "output_type": "stream",
          "name": "stdout",
          "text": [
            "numero: 1\n",
            " cpf: 1\n",
            "saldo: 300\n",
            "O saque foi realizado? False\n"
          ]
        }
      ]
    }
  ]
}