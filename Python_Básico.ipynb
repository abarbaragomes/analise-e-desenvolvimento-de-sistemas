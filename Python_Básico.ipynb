{
  "nbformat": 4,
  "nbformat_minor": 0,
  "metadata": {
    "colab": {
      "provenance": [],
      "authorship_tag": "ABX9TyMPusqjrZzsCYptREl53D3L",
      "include_colab_link": true
    },
    "kernelspec": {
      "name": "python3",
      "display_name": "Python 3"
    },
    "language_info": {
      "name": "python"
    }
  },
  "cells": [
    {
      "cell_type": "markdown",
      "metadata": {
        "id": "view-in-github",
        "colab_type": "text"
      },
      "source": [
        "<a href=\"https://colab.research.google.com/github/abarbaragomes/analise-e-desenvolvimento-de-sistemas/blob/main/Python_B%C3%A1sico.ipynb\" target=\"_parent\"><img src=\"https://colab.research.google.com/assets/colab-badge.svg\" alt=\"Open In Colab\"/></a>"
      ]
    },
    {
      "cell_type": "markdown",
      "source": [
        "As linhas 2, 3 e 4 compõem o bloco interno à função chamada multiplicador(). Embora as variáveis das linhas 2 e 6 tenham o mesmo nome, elas são abstrações a endereços de memória diferentes. Dentro da função multiplicador(), a chamada ao nome a recupera o valor 2. Fora da função multiplicador(), a chamada ao nome a recupera o valor 3"
      ],
      "metadata": {
        "id": "WeFKL4i-NFeg"
      }
    },
    {
      "cell_type": "code",
      "execution_count": null,
      "metadata": {
        "colab": {
          "base_uri": "https://localhost:8080/"
        },
        "id": "Z_aaNGVBLGDu",
        "outputId": "85c3c2b1-9b63-463f-af5d-c583d534be37"
      },
      "outputs": [
        {
          "output_type": "stream",
          "name": "stdout",
          "text": [
            "Dentro da função, a variável vale: 2\n",
            "Fora da função, a variável a vale: 3\n"
          ]
        }
      ],
      "source": [
        "def multiplicador(numero):\n",
        "        a = 2 # esta variável tem escopo local\n",
        "        print(f\"Dentro da função, a variável vale: {a}\")\n",
        "        return a * numero\n",
        "\n",
        "a = 3 # esta variável tem escopo global\n",
        "b = multiplicador(5)\n",
        "print(f\"Fora da função, a variável a vale: {a}\")"
      ]
    },
    {
      "cell_type": "markdown",
      "source": [
        "Na linha 5, ao se chamar a função do multiplicador(), a variável a será procurada. Como não existe uma variável a no bloco interno da função, ela é procurada como variável global. Uma vez encontrada, o valor recuperado é 3. Ao executar esse código a saída obtida será A variável b vale 15."
      ],
      "metadata": {
        "id": "lRvIju0MNPBZ"
      }
    },
    {
      "cell_type": "code",
      "source": [
        "def multiplicador(numero):\n",
        "        return a * numero\n",
        "\n",
        "a = 3 # esta variável tem escopo global\n",
        "b = multiplicador(5)\n",
        "print(f\"A variável b vale: {b}\")"
      ],
      "metadata": {
        "colab": {
          "base_uri": "https://localhost:8080/"
        },
        "id": "9QPejhcdLkFP",
        "outputId": "a4945099-e32f-46b5-b561-c63cafedac26"
      },
      "execution_count": null,
      "outputs": [
        {
          "output_type": "stream",
          "name": "stdout",
          "text": [
            "A variável b vale: 15\n"
          ]
        }
      ]
    },
    {
      "cell_type": "markdown",
      "source": [
        "Perceba que, se a variável a é inicializada na função multiplicador(), qualquer chamada a esse nome dentro da função resultará na referência a essa variável local. Mas seria possível alterar a variável a global com uma instrução dentro da função multiplicador()? Sim, utilizando-se a palavra reservada global."
      ],
      "metadata": {
        "id": "z2VZHD3WNhLa"
      }
    },
    {
      "cell_type": "code",
      "source": [
        "def multiplicador(numero):\n",
        "        global a # todas as referências à variável a são para a global\n",
        "        a = 2      # a global será alterado\n",
        "        print(f\"Dentro da função,  variável  vale: {a}\")\n",
        "        return a * numero\n",
        "\n",
        "\n",
        "a = 3  # esta variável tem escopo global\n",
        "b = multiplicador(5)\n",
        "print(f\"A variável b vale: {b}\")\n",
        "print(f\"Fora da função, a variável a vale: {a}\")"
      ],
      "metadata": {
        "colab": {
          "base_uri": "https://localhost:8080/"
        },
        "id": "0g8K48kbL-9x",
        "outputId": "c37780af-844c-4f3d-946a-493d4568bfc7"
      },
      "execution_count": null,
      "outputs": [
        {
          "output_type": "stream",
          "name": "stdout",
          "text": [
            "Dentro da função,  variável  vale: 2\n",
            "A variável b vale: 10\n",
            "Fora da função, a variável a vale: 2\n"
          ]
        }
      ]
    },
    {
      "cell_type": "code",
      "source": [
        "a = ['U'] + ['RN']\n",
        "print(len(a))\n",
        "b = ['4'] * 4\n",
        "print(len(b))"
      ],
      "metadata": {
        "colab": {
          "base_uri": "https://localhost:8080/"
        },
        "id": "uKhq43_dhdMs",
        "outputId": "a6b3ffe5-85e5-4f29-f4c8-85d5fb1b90bf"
      },
      "execution_count": null,
      "outputs": [
        {
          "output_type": "stream",
          "name": "stdout",
          "text": [
            "2\n",
            "4\n"
          ]
        }
      ]
    },
    {
      "cell_type": "markdown",
      "source": [
        "Primeiro programa"
      ],
      "metadata": {
        "id": "ZYENV0LeNCxN"
      }
    },
    {
      "cell_type": "code",
      "source": [
        "nome = input('Digite o seu nome: ')\n",
        "idade = eval(input('Digite sua idade: '))\n",
        "idadefutura = idade + 1\n",
        "print('Olá, ', nome, '.')\n",
        "print(nome,' atualmente você tem ', idade, ' anos')\n",
        "print('No próximo ano, você fará ', idadefutura, ' anos.')"
      ],
      "metadata": {
        "id": "PUPzJ51NhrF1",
        "colab": {
          "base_uri": "https://localhost:8080/"
        },
        "outputId": "97e6eb1b-aa59-4b73-8603-5ab7732103b6"
      },
      "execution_count": 22,
      "outputs": [
        {
          "output_type": "stream",
          "name": "stdout",
          "text": [
            "Digite o seu nome: Ana\n",
            "Digite sua idade: 13\n",
            "Olá,  Ana .\n",
            "Ana  atualmente você tem  13  anos\n",
            "No próximo ano, você fará  14  anos.\n"
          ]
        }
      ]
    },
    {
      "cell_type": "markdown",
      "source": [
        "Construindo uma calculadora de IMC:  \n",
        "\n",
        "![image.png](data:image/png;base64,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)"
      ],
      "metadata": {
        "id": "PB16LOCiNSX0"
      }
    },
    {
      "cell_type": "code",
      "source": [
        "peso = eval(input('Informe o seu peso: '))\n",
        "## altura precisa estar com pontuação; e, não vírgula. Exemplo: 1.75 ao invés de 1,75\n",
        "altura = eval(input('Informe a sua altura: '))\n",
        "\n",
        "imc = peso / ((altura)**2)\n",
        "\n",
        "print('Seu IMC é: ', imc)"
      ],
      "metadata": {
        "colab": {
          "base_uri": "https://localhost:8080/"
        },
        "id": "OZ6qF1LfNT2a",
        "outputId": "1560a1f3-3cff-465c-a968-287456bbc2cb"
      },
      "execution_count": 7,
      "outputs": [
        {
          "output_type": "stream",
          "name": "stdout",
          "text": [
            "Informe o seu peso: 75\n",
            "Informe a sua altura: 1.75\n",
            "Seu IMC é:  24.489795918367346\n"
          ]
        }
      ]
    }
  ]
}